{
  "nbformat": 4,
  "nbformat_minor": 0,
  "metadata": {
    "colab": {
      "provenance": []
    },
    "kernelspec": {
      "name": "python3",
      "display_name": "Python 3"
    },
    "language_info": {
      "name": "python"
    }
  },
  "cells": [
    {
      "cell_type": "code",
      "execution_count": null,
      "metadata": {
        "id": "E7is6D043YMV",
        "colab": {
          "base_uri": "https://localhost:8080/"
        },
        "outputId": "f7e12963-3f33-47de-b47b-b9d385476401"
      },
      "outputs": [
        {
          "output_type": "stream",
          "name": "stdout",
          "text": [
            "Requirement already satisfied: nltk in /usr/local/lib/python3.11/dist-packages (3.9.1)\n",
            "Requirement already satisfied: pandas in /usr/local/lib/python3.11/dist-packages (2.2.2)\n",
            "Requirement already satisfied: scikit-learn in /usr/local/lib/python3.11/dist-packages (1.6.1)\n",
            "Requirement already satisfied: click in /usr/local/lib/python3.11/dist-packages (from nltk) (8.2.0)\n",
            "Requirement already satisfied: joblib in /usr/local/lib/python3.11/dist-packages (from nltk) (1.5.0)\n",
            "Requirement already satisfied: regex>=2021.8.3 in /usr/local/lib/python3.11/dist-packages (from nltk) (2024.11.6)\n",
            "Requirement already satisfied: tqdm in /usr/local/lib/python3.11/dist-packages (from nltk) (4.67.1)\n",
            "Requirement already satisfied: numpy>=1.23.2 in /usr/local/lib/python3.11/dist-packages (from pandas) (2.0.2)\n",
            "Requirement already satisfied: python-dateutil>=2.8.2 in /usr/local/lib/python3.11/dist-packages (from pandas) (2.9.0.post0)\n",
            "Requirement already satisfied: pytz>=2020.1 in /usr/local/lib/python3.11/dist-packages (from pandas) (2025.2)\n",
            "Requirement already satisfied: tzdata>=2022.7 in /usr/local/lib/python3.11/dist-packages (from pandas) (2025.2)\n",
            "Requirement already satisfied: scipy>=1.6.0 in /usr/local/lib/python3.11/dist-packages (from scikit-learn) (1.15.3)\n",
            "Requirement already satisfied: threadpoolctl>=3.1.0 in /usr/local/lib/python3.11/dist-packages (from scikit-learn) (3.6.0)\n",
            "Requirement already satisfied: six>=1.5 in /usr/local/lib/python3.11/dist-packages (from python-dateutil>=2.8.2->pandas) (1.17.0)\n"
          ]
        }
      ],
      "source": [
        "# Step 1: Install Required Packages\n",
        "\n",
        "!pip install nltk pandas scikit-learn"
      ]
    },
    {
      "cell_type": "code",
      "source": [
        "# Step 2: Import Libraries\n",
        "\n",
        "import nltk\n",
        "import pandas as pd\n",
        "import re\n",
        "import os\n",
        "from nltk.corpus import stopwords, wordnet\n",
        "from nltk.stem import WordNetLemmatizer, PorterStemmer, LancasterStemmer, SnowballStemmer\n",
        "from nltk import word_tokenize, pos_tag"
      ],
      "metadata": {
        "id": "U4erS9Ih3Zs6"
      },
      "execution_count": null,
      "outputs": []
    },
    {
      "cell_type": "code",
      "source": [
        "# Step 3: Download NLTK Data\n",
        "\n",
        "required_downloads = [\n",
        "    'punkt_tab', 'stopwords', 'wordnet',\n",
        "    'averaged_perceptron_tagger', 'averaged_perceptron_tagger_eng'\n",
        "]\n",
        "\n",
        "for item in required_downloads:\n",
        "    try:\n",
        "        print(f\"  Downloading {item}...\")\n",
        "        nltk.download(item, quiet=True)\n",
        "        print(f\"  Successfully downloaded {item}\")\n",
        "    except Exception as e:\n",
        "        print(f\"  Warning: Could not download {item}: {e}\")"
      ],
      "metadata": {
        "id": "dCqx52Ig3e6Z",
        "colab": {
          "base_uri": "https://localhost:8080/"
        },
        "outputId": "84f30ef2-711d-4821-9702-71839b25b8e7"
      },
      "execution_count": null,
      "outputs": [
        {
          "output_type": "stream",
          "name": "stdout",
          "text": [
            "  Downloading punkt_tab...\n",
            "  Successfully downloaded punkt_tab\n",
            "  Downloading stopwords...\n",
            "  Successfully downloaded stopwords\n",
            "  Downloading wordnet...\n",
            "  Successfully downloaded wordnet\n",
            "  Downloading averaged_perceptron_tagger...\n",
            "  Successfully downloaded averaged_perceptron_tagger\n",
            "  Downloading averaged_perceptron_tagger_eng...\n",
            "  Successfully downloaded averaged_perceptron_tagger_eng\n"
          ]
        }
      ]
    },
    {
      "cell_type": "code",
      "source": [
        "# Step 4: Define Data Loading Function\n",
        "\n",
        "def load_data(filename='news.csv'):\n",
        "    \"\"\"Load CSV data with error handling\"\"\"\n",
        "    try:\n",
        "        df = pd.read_csv(filename)\n",
        "        print(f\"  Successfully loaded {filename}\")\n",
        "        print(f\"  Dataset shape: {df.shape[0]} rows, {df.shape[1]} columns\")\n",
        "        print(f\"  Columns: {list(df.columns)}\")\n",
        "        return df\n",
        "    except FileNotFoundError:\n",
        "        print(f\"  Error: '{filename}' file not found\")\n",
        "        print(f\"  Available files: {os.listdir('.')}\")\n",
        "        return None\n",
        "    except Exception as e:\n",
        "        print(f\"  Error loading data: {e}\")\n",
        "        return None"
      ],
      "metadata": {
        "id": "s_8Ot98S3hD5"
      },
      "execution_count": null,
      "outputs": []
    },
    {
      "cell_type": "code",
      "source": [
        "# Step 5: Define Text Cleaning Function\n",
        "\n",
        "def clean_text(text):\n",
        "    \"\"\"Clean and normalize text data\"\"\"\n",
        "    if not isinstance(text, str) or pd.isna(text):\n",
        "        return \"\"\n",
        "\n",
        "    # Convert to lowercase\n",
        "    text = text.lower()\n",
        "\n",
        "    # Remove URLs\n",
        "    text = re.sub(r'http\\S+|www\\S+|https\\S+', '', text, flags=re.MULTILINE)\n",
        "\n",
        "    # Remove email addresses\n",
        "    text = re.sub(r'\\S+@\\S+', '', text)\n",
        "\n",
        "    # Remove special characters but keep spaces\n",
        "    text = re.sub(r'[^a-zA-Z\\s]', '', text)\n",
        "\n",
        "    # Remove extra whitespace\n",
        "    text = re.sub(r'\\s+', ' ', text)\n",
        "    text = text.strip()\n",
        "\n",
        "    return text"
      ],
      "metadata": {
        "id": "Jv5T_8Nx3jGY"
      },
      "execution_count": null,
      "outputs": []
    },
    {
      "cell_type": "code",
      "source": [
        "# Step 6: Define Stopwords Function\n",
        "\n",
        "def get_stopwords():\n",
        "    \"\"\"Get English stopwords with fallback\"\"\"\n",
        "    try:\n",
        "        return set(stopwords.words('english'))\n",
        "    except Exception as e:\n",
        "        print(f\"  Warning: Could not load stopwords: {e}\")\n",
        "        # Fallback stopwords\n",
        "        return set(['the', 'a', 'an', 'and', 'or', 'but', 'in', 'on', 'at', 'to', 'for', 'of', 'with', 'by'])\n",
        "\n",
        "stop_words = get_stopwords()\n",
        "print(f\"  Loaded {len(stop_words)} stopwords\")"
      ],
      "metadata": {
        "id": "npEwEJER3ktH",
        "colab": {
          "base_uri": "https://localhost:8080/"
        },
        "outputId": "cb68bab3-73ef-4254-ca97-11d79b5e80d8"
      },
      "execution_count": null,
      "outputs": [
        {
          "output_type": "stream",
          "name": "stdout",
          "text": [
            "  Loaded 198 stopwords\n"
          ]
        }
      ]
    },
    {
      "cell_type": "code",
      "source": [
        "# Step 7: Define Tokenization Function\n",
        "\n",
        "def tokenize_and_remove_stopwords(text):\n",
        "    \"\"\"Tokenize text and remove stopwords\"\"\"\n",
        "    if not text or not isinstance(text, str):\n",
        "        return []\n",
        "\n",
        "    try:\n",
        "        tokens = word_tokenize(text)\n",
        "        # Filter out stopwords and single characters\n",
        "        filtered = [word for word in tokens if word not in stop_words and len(word) > 1]\n",
        "        return filtered\n",
        "    except Exception as e:\n",
        "        print(f\"  Warning: Tokenization error: {e}\")\n",
        "        return text.split()\n"
      ],
      "metadata": {
        "id": "fFW02Aav3nIz"
      },
      "execution_count": null,
      "outputs": []
    },
    {
      "cell_type": "code",
      "source": [
        "# Step 8: Define Stemming Functions\n",
        "\n",
        "def apply_stemming(words, algorithm='snowball'):\n",
        "    \"\"\"Apply stemming algorithm to words\"\"\"\n",
        "    if not words:\n",
        "        return []\n",
        "\n",
        "    if algorithm == 'porter':\n",
        "        stemmer = PorterStemmer()\n",
        "    elif algorithm == 'lancaster':\n",
        "        stemmer = LancasterStemmer()\n",
        "    else:  # default to snowball\n",
        "        stemmer = SnowballStemmer('english')\n",
        "\n",
        "    return [stemmer.stem(word) for word in words]\n"
      ],
      "metadata": {
        "id": "ecqGyzPT3qqx"
      },
      "execution_count": null,
      "outputs": []
    },
    {
      "cell_type": "code",
      "source": [
        "# Step 9: Define POS Tagging Helper\n",
        "\n",
        "def get_wordnet_pos(tag):\n",
        "    \"\"\"Convert POS tag to WordNet format\"\"\"\n",
        "    if tag.startswith('J'):\n",
        "        return wordnet.ADJ\n",
        "    elif tag.startswith('V'):\n",
        "        return wordnet.VERB\n",
        "    elif tag.startswith('N'):\n",
        "        return wordnet.NOUN\n",
        "    elif tag.startswith('R'):\n",
        "        return wordnet.ADV\n",
        "    else:\n",
        "        return wordnet.NOUN"
      ],
      "metadata": {
        "id": "Kmr7Y7Bu3sfC"
      },
      "execution_count": null,
      "outputs": []
    },
    {
      "cell_type": "code",
      "source": [
        "# Step 10: Define Lemmatization Function\n",
        "\n",
        "def lemmatize_text(text):\n",
        "    \"\"\"Lemmatize text using POS tags\"\"\"\n",
        "    if not text or not isinstance(text, str):\n",
        "        return \"\"\n",
        "\n",
        "    try:\n",
        "        lemmatizer = WordNetLemmatizer()\n",
        "        tokens = word_tokenize(text)\n",
        "        pos_tags = pos_tag(tokens)\n",
        "\n",
        "        lemmatized = [lemmatizer.lemmatize(word, get_wordnet_pos(tag))\n",
        "                     for word, tag in pos_tags]\n",
        "        return ' '.join(lemmatized)\n",
        "    except Exception as e:\n",
        "        print(f\"  Warning: Lemmatization error: {e}\")\n",
        "        return text"
      ],
      "metadata": {
        "id": "CLt8V50U9sln"
      },
      "execution_count": null,
      "outputs": []
    },
    {
      "cell_type": "code",
      "source": [
        "# Step 11: Define Complete Preprocessing Pipeline\n",
        "\n",
        "def full_preprocess(text, method='lemmatize'):\n",
        "    \"\"\"Complete text preprocessing pipeline\"\"\"\n",
        "    if not isinstance(text, str) or pd.isna(text):\n",
        "        return \"\"\n",
        "\n",
        "    # Step 11a: Clean text\n",
        "    text = clean_text(text)\n",
        "\n",
        "    # Step 11b: Tokenize and remove stopwords\n",
        "    tokens = tokenize_and_remove_stopwords(text)\n",
        "    text = ' '.join(tokens)\n",
        "\n",
        "    # Step 11c: Apply stemming or lemmatization\n",
        "    if method == 'lemmatize':\n",
        "        text = lemmatize_text(text)\n",
        "    elif method == 'stem':\n",
        "        tokens = word_tokenize(text)\n",
        "        tokens = apply_stemming(tokens)\n",
        "        text = ' '.join(tokens)\n",
        "\n",
        "    return text"
      ],
      "metadata": {
        "id": "LwUQSYdr3vEo"
      },
      "execution_count": null,
      "outputs": []
    },
    {
      "cell_type": "code",
      "source": [
        "# Step 11: Define Complete Preprocessing Pipeline\n",
        "\n",
        "def full_preprocess(text, method='lemmatize'):\n",
        "    \"\"\"Complete text preprocessing pipeline\"\"\"\n",
        "    if not isinstance(text, str) or pd.isna(text):\n",
        "        return \"\"\n",
        "\n",
        "    # Step 11a: Clean text\n",
        "    text = clean_text(text)\n",
        "\n",
        "    # Step 11b: Tokenize and remove stopwords\n",
        "    tokens = tokenize_and_remove_stopwords(text)\n",
        "    text = ' '.join(tokens)\n",
        "\n",
        "    # Step 11c: Apply stemming or lemmatization\n",
        "    if method == 'lemmatize':\n",
        "        text = lemmatize_text(text)\n",
        "    elif method == 'stem':\n",
        "        tokens = word_tokenize(text)\n",
        "        tokens = apply_stemming(tokens)\n",
        "        text = ' '.join(tokens)\n",
        "\n",
        "    return text"
      ],
      "metadata": {
        "id": "Q5pvdQO_IWPT"
      },
      "execution_count": null,
      "outputs": []
    },
    {
      "cell_type": "code",
      "source": [
        "# Step 13: Define Machine Learning Function\n",
        "\n",
        "def train_model(df, text_col, label_col):\n",
        "    \"\"\"Train and evaluate a machine learning model\"\"\"\n",
        "    try:\n",
        "        from sklearn.model_selection import train_test_split\n",
        "        from sklearn.feature_extraction.text import TfidfVectorizer\n",
        "        from sklearn.linear_model import LogisticRegression\n",
        "        from sklearn.metrics import classification_report, accuracy_score\n",
        "\n",
        "        print(\"  Step 13a: Vectorizing text...\")\n",
        "        vectorizer = TfidfVectorizer(max_features=5000, min_df=2, max_df=0.8)\n",
        "        X = vectorizer.fit_transform(df[text_col])\n",
        "        y = df[label_col]\n",
        "\n",
        "        print(f\"  Feature matrix shape: {X.shape}\")\n",
        "        print(f\"  Unique labels: {y.nunique()}\")\n",
        "\n",
        "        print(\"  Step 13b: Splitting data...\")\n",
        "        X_train, X_test, y_train, y_test = train_test_split(\n",
        "            X, y, test_size=0.2, random_state=42, stratify=y\n",
        "        )\n",
        "\n",
        "        print(\"  Step 13c: Training model...\")\n",
        "        clf = LogisticRegression(max_iter=1000, random_state=42)\n",
        "        clf.fit(X_train, y_train)\n",
        "\n",
        "        print(\"  Step 13d: Evaluating model...\")\n",
        "        y_pred = clf.predict(X_test)\n",
        "        accuracy = accuracy_score(y_test, y_pred)\n",
        "\n",
        "        print(f\"  Model Accuracy: {accuracy:.3f}\")\n",
        "        print(\"  Classification Report:\")\n",
        "        print(classification_report(y_test, y_pred))\n",
        "\n",
        "        return clf, vectorizer\n",
        "\n",
        "    except ImportError:\n",
        "        print(\"  Error: Scikit-learn not available. Install with: pip install scikit-learn\")\n",
        "        return None, None\n",
        "    except Exception as e:\n",
        "        print(f\"  Error during model training: {e}\")\n",
        "        return None, None"
      ],
      "metadata": {
        "id": "SqWFg9t6Ib5k"
      },
      "execution_count": null,
      "outputs": []
    },
    {
      "cell_type": "code",
      "source": [
        "# Step 14: Main Execution Function\n",
        "\n",
        "def main():\n",
        "    print(\"Starting News Text Preprocessing Pipeline\")\n",
        "    print(\"=\" * 50)\n",
        "\n",
        "    # Step 14a: Load data\n",
        "    print(\"\\nStep 14a: Loading data...\")\n",
        "    df = load_data()\n",
        "    if df is None:\n",
        "        print(\"  Cannot proceed without data. Exiting.\")\n",
        "        return\n",
        "\n",
        "    # Step 14b: Find text column\n",
        "    print(\"\\nStep 14b: Identifying text column...\")\n",
        "    text_column = None\n",
        "    possible_text_cols = ['text', 'content', 'article', 'news_text', 'body']\n",
        "\n",
        "    for col in possible_text_cols:\n",
        "        if col in df.columns:\n",
        "            text_column = col\n",
        "            print(f\"  Found text column: {col}\")\n",
        "            break\n",
        "\n",
        "    if text_column is None:\n",
        "        print(\"  No text column found. Available columns:\")\n",
        "        for i, col in enumerate(df.columns, 1):\n",
        "            print(f\"    {i}. {col}\")\n",
        "        return\n",
        "\n",
        "    # Step 14c: Show sample data\n",
        "    print(f\"\\nStep 14c: Sample original text from '{text_column}':\")\n",
        "    sample_text = str(df[text_column].iloc[0])\n",
        "    print(f\"  Length: {len(sample_text)} characters\")\n",
        "    print(f\"  Preview: {sample_text[:200]}...\")\n",
        "\n",
        "    # Step 14d: Apply preprocessing\n",
        "    print(f\"\\nStep 14d: Processing {len(df):,} texts...\")\n",
        "    print(\"  This may take a few minutes...\")\n",
        "\n",
        "    df['processed_text'] = df[text_column].apply(lambda x: full_preprocess(x, method='lemmatize'))\n",
        "\n",
        "    # Step 14e: Show results\n",
        "    print(f\"\\nStep 14e: Sample processed text:\")\n",
        "    sample_processed = df['processed_text'].iloc[0]\n",
        "    print(f\"  Length: {len(sample_processed)} characters\")\n",
        "    print(f\"  Preview: {sample_processed[:200]}...\")\n",
        "\n",
        "    # Step 14f: Calculate statistics\n",
        "    print(f\"\\nStep 14f: Preprocessing statistics:\")\n",
        "    original_lengths = df[text_column].astype(str).str.len()\n",
        "    processed_lengths = df['processed_text'].str.len()\n",
        "\n",
        "    print(f\"  Average original length: {original_lengths.mean():.1f} characters\")\n",
        "    print(f\"  Average processed length: {processed_lengths.mean():.1f} characters\")\n",
        "    print(f\"  Reduction: {(1 - processed_lengths.mean()/original_lengths.mean())*100:.1f}%\")\n",
        "\n",
        "    # Step 14g: Save processed data\n",
        "    print(f\"\\nStep 14g: Saving processed data...\")\n",
        "    if not save_processed_data(df):\n",
        "        print(\"  Failed to save processed data.\")\n",
        "        return\n",
        "\n",
        "    # Step 14h: Check for label column and train model\n",
        "    print(f\"\\nStep 14h: Checking for label column...\")\n",
        "    label_column = None\n",
        "    possible_label_cols = ['label', 'category', 'class', 'target', 'sentiment']\n",
        "\n",
        "    for col in possible_label_cols:\n",
        "        if col in df.columns:\n",
        "            label_column = col\n",
        "            print(f\"  Found label column: {col}\")\n",
        "            break\n",
        "\n",
        "    if label_column:\n",
        "        print(f\"\\nStep 14i: Training machine learning model...\")\n",
        "        model, vectorizer = train_model(df, 'processed_text', label_column)\n",
        "        if model is not None:\n",
        "            print(\"  Model training completed successfully.\")\n",
        "    else:\n",
        "        print(\"  No label column found. Skipping ML training.\")\n",
        "        print(\"  Available columns:\")\n",
        "        for i, col in enumerate(df.columns, 1):\n",
        "            print(f\"    {i}. {col}\")\n",
        "\n",
        "    print(f\"\\nPipeline completed successfully!\")\n",
        "    print(\"Your processed data is now available in 'processed_news.csv'\")\n"
      ],
      "metadata": {
        "id": "CYDN-Oz7Ig9m"
      },
      "execution_count": null,
      "outputs": []
    }
  ]
}