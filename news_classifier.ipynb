{
  "nbformat": 4,
  "nbformat_minor": 0,
  "metadata": {
    "colab": {
      "provenance": []
    },
    "kernelspec": {
      "name": "python3",
      "display_name": "Python 3"
    },
    "language_info": {
      "name": "python"
    }
  },
  "cells": [
    {
      "cell_type": "code",
      "execution_count": null,
      "metadata": {
        "colab": {
          "base_uri": "https://localhost:8080/"
        },
        "id": "cYRFwf7jLQjH",
        "outputId": "a65128f5-a236-48dc-af38-b6e9f71eae3d"
      },
      "outputs": [
        {
          "output_type": "stream",
          "name": "stdout",
          "text": [
            "Requirement already satisfied: nltk in /usr/local/lib/python3.11/dist-packages (3.9.1)\n",
            "Requirement already satisfied: pandas in /usr/local/lib/python3.11/dist-packages (2.2.2)\n",
            "Requirement already satisfied: scikit-learn in /usr/local/lib/python3.11/dist-packages (1.6.1)\n",
            "Requirement already satisfied: click in /usr/local/lib/python3.11/dist-packages (from nltk) (8.2.1)\n",
            "Requirement already satisfied: joblib in /usr/local/lib/python3.11/dist-packages (from nltk) (1.5.0)\n",
            "Requirement already satisfied: regex>=2021.8.3 in /usr/local/lib/python3.11/dist-packages (from nltk) (2024.11.6)\n",
            "Requirement already satisfied: tqdm in /usr/local/lib/python3.11/dist-packages (from nltk) (4.67.1)\n",
            "Requirement already satisfied: numpy>=1.23.2 in /usr/local/lib/python3.11/dist-packages (from pandas) (2.0.2)\n",
            "Requirement already satisfied: python-dateutil>=2.8.2 in /usr/local/lib/python3.11/dist-packages (from pandas) (2.9.0.post0)\n",
            "Requirement already satisfied: pytz>=2020.1 in /usr/local/lib/python3.11/dist-packages (from pandas) (2025.2)\n",
            "Requirement already satisfied: tzdata>=2022.7 in /usr/local/lib/python3.11/dist-packages (from pandas) (2025.2)\n",
            "Requirement already satisfied: scipy>=1.6.0 in /usr/local/lib/python3.11/dist-packages (from scikit-learn) (1.15.3)\n",
            "Requirement already satisfied: threadpoolctl>=3.1.0 in /usr/local/lib/python3.11/dist-packages (from scikit-learn) (3.6.0)\n",
            "Requirement already satisfied: six>=1.5 in /usr/local/lib/python3.11/dist-packages (from python-dateutil>=2.8.2->pandas) (1.17.0)\n"
          ]
        }
      ],
      "source": [
        "# Install required packages\n",
        "!pip install nltk pandas scikit-learn\n",
        "\n",
        "import nltk\n",
        "import pandas as pd\n",
        "import re\n",
        "from nltk.corpus import stopwords, wordnet\n",
        "from nltk.stem import WordNetLemmatizer, PorterStemmer, LancasterStemmer, SnowballStemmer\n",
        "from nltk import word_tokenize, pos_tag\n",
        "from IPython.display import FileLink"
      ]
    },
    {
      "cell_type": "code",
      "source": [
        "# Download NLTK Data\n",
        "\n",
        "required_downloads = [\n",
        "    'punkt_tab', 'stopwords', 'wordnet',\n",
        "    'averaged_perceptron_tagger', 'averaged_perceptron_tagger_eng'\n",
        "]\n",
        "\n",
        "for item in required_downloads:\n",
        "    try:\n",
        "        print(f\"  Downloading {item}...\")\n",
        "        nltk.download(item, quiet=True)\n",
        "        print(f\"  Successfully downloaded {item}\")\n",
        "    except Exception as e:\n",
        "        print(f\"  Warning: Could not download {item}: {e}\")"
      ],
      "metadata": {
        "colab": {
          "base_uri": "https://localhost:8080/"
        },
        "id": "Bm7aYPPQLjnu",
        "outputId": "20c65c4f-e7dd-4240-f266-81b79c81d1a9"
      },
      "execution_count": null,
      "outputs": [
        {
          "output_type": "stream",
          "name": "stdout",
          "text": [
            "  Downloading punkt_tab...\n",
            "  Successfully downloaded punkt_tab\n",
            "  Downloading stopwords...\n",
            "  Successfully downloaded stopwords\n",
            "  Downloading wordnet...\n",
            "  Successfully downloaded wordnet\n",
            "  Downloading averaged_perceptron_tagger...\n",
            "  Successfully downloaded averaged_perceptron_tagger\n",
            "  Downloading averaged_perceptron_tagger_eng...\n",
            "  Successfully downloaded averaged_perceptron_tagger_eng\n"
          ]
        }
      ]
    },
    {
      "cell_type": "code",
      "source": [
        "# Define Data Loading Function\n",
        "\n",
        "def load_data(filename='news.csv'):\n",
        "    \"\"\"Load CSV data with error handling\"\"\"\n",
        "    try:\n",
        "        df = pd.read_csv(filename)\n",
        "        print(f\"  Successfully loaded {filename}\")\n",
        "        print(f\"  Dataset shape: {df.shape[0]} rows, {df.shape[1]} columns\")\n",
        "        print(f\"  Columns: {list(df.columns)}\")\n",
        "        return df\n",
        "    except FileNotFoundError:\n",
        "        print(f\"  Error: '{filename}' file not found\")\n",
        "        print(f\"  Available files: {os.listdir('.')}\")\n",
        "        return None\n",
        "    except Exception as e:\n",
        "        print(f\"  Error loading data: {e}\")\n",
        "        return None"
      ],
      "metadata": {
        "id": "01FBYC1OLp5-"
      },
      "execution_count": null,
      "outputs": []
    },
    {
      "cell_type": "code",
      "source": [
        "# Define Text Cleaning Function\n",
        "\n",
        "def clean_text(text):\n",
        "    \"\"\"Clean and normalize text data\"\"\"\n",
        "    if not isinstance(text, str) or pd.isna(text):\n",
        "        return \"\"\n",
        "\n",
        "    # Convert to lowercase\n",
        "    text = text.lower()\n",
        "\n",
        "    # Remove URLs\n",
        "    text = re.sub(r'http\\S+|www\\S+|https\\S+', '', text, flags=re.MULTILINE)\n",
        "\n",
        "    # Remove email addresses\n",
        "    text = re.sub(r'\\S+@\\S+', '', text)\n",
        "\n",
        "    # Remove special characters but keep spaces\n",
        "    text = re.sub(r'[^a-zA-Z\\s]', '', text)\n",
        "\n",
        "    # Remove extra whitespace\n",
        "    text = re.sub(r'\\s+', ' ', text)\n",
        "    text = text.strip()\n",
        "\n",
        "    return text"
      ],
      "metadata": {
        "id": "OFLnuvHKLuJN"
      },
      "execution_count": null,
      "outputs": []
    },
    {
      "cell_type": "code",
      "source": [
        "# Define Stopwords Function\n",
        "\n",
        "def get_stopwords():\n",
        "    \"\"\"Get English stopwords with fallback\"\"\"\n",
        "    try:\n",
        "        return set(stopwords.words('english'))\n",
        "    except Exception as e:\n",
        "        print(f\"  Warning: Could not load stopwords: {e}\")\n",
        "        # Fallback stopwords\n",
        "        return set(['the', 'a', 'an', 'and', 'or', 'but', 'in', 'on', 'at', 'to', 'for', 'of', 'with', 'by'])\n",
        "\n",
        "stop_words = get_stopwords()\n",
        "print(f\"  Loaded {len(stop_words)} stopwords\")"
      ],
      "metadata": {
        "colab": {
          "base_uri": "https://localhost:8080/"
        },
        "id": "lNtalA9FLzM-",
        "outputId": "d6b89054-25aa-45fe-abd9-89254636723a"
      },
      "execution_count": null,
      "outputs": [
        {
          "output_type": "stream",
          "name": "stdout",
          "text": [
            "  Loaded 198 stopwords\n"
          ]
        }
      ]
    },
    {
      "cell_type": "code",
      "source": [
        "# Define Tokenization Function\n",
        "\n",
        "def tokenize_and_remove_stopwords(text):\n",
        "    \"\"\"Tokenize text and remove stopwords\"\"\"\n",
        "    if not text or not isinstance(text, str):\n",
        "        return []\n",
        "\n",
        "    try:\n",
        "        tokens = word_tokenize(text)\n",
        "        # Filter out stopwords and single characters\n",
        "        filtered = [word for word in tokens if word not in stop_words and len(word) > 1]\n",
        "        return filtered\n",
        "    except Exception as e:\n",
        "        print(f\"  Warning: Tokenization error: {e}\")\n",
        "        return text.split()\n"
      ],
      "metadata": {
        "id": "xqq1JNa9L2OX"
      },
      "execution_count": null,
      "outputs": []
    },
    {
      "cell_type": "code",
      "source": [
        "# Define Stemming Functions\n",
        "\n",
        "def apply_stemming(words, algorithm='snowball'):\n",
        "    \"\"\"Apply stemming algorithm to words\"\"\"\n",
        "    if not words:\n",
        "        return []\n",
        "\n",
        "    if algorithm == 'porter':\n",
        "        stemmer = PorterStemmer()\n",
        "    elif algorithm == 'lancaster':\n",
        "        stemmer = LancasterStemmer()\n",
        "    else:  # default to snowball\n",
        "        stemmer = SnowballStemmer('english')\n",
        "\n",
        "    return [stemmer.stem(word) for word in words]\n"
      ],
      "metadata": {
        "id": "MTDxV_G2L40u"
      },
      "execution_count": null,
      "outputs": []
    },
    {
      "cell_type": "code",
      "source": [
        "# Define POS Tagging Helper\n",
        "\n",
        "def get_wordnet_pos(tag):\n",
        "    \"\"\"Convert POS tag to WordNet format\"\"\"\n",
        "    if tag.startswith('J'):\n",
        "        return wordnet.ADJ\n",
        "    elif tag.startswith('V'):\n",
        "        return wordnet.VERB\n",
        "    elif tag.startswith('N'):\n",
        "        return wordnet.NOUN\n",
        "    elif tag.startswith('R'):\n",
        "        return wordnet.ADV\n",
        "    else:\n",
        "        return wordnet.NOUN"
      ],
      "metadata": {
        "id": "r3Vwq5_aL7Xu"
      },
      "execution_count": null,
      "outputs": []
    },
    {
      "cell_type": "code",
      "source": [
        "# Define Lemmatization Function\n",
        "\n",
        "def lemmatize_text(text):\n",
        "    \"\"\"Lemmatize text using POS tags\"\"\"\n",
        "    if not text or not isinstance(text, str):\n",
        "        return \"\"\n",
        "\n",
        "    try:\n",
        "        lemmatizer = WordNetLemmatizer()\n",
        "        tokens = word_tokenize(text)\n",
        "        pos_tags = pos_tag(tokens)\n",
        "\n",
        "        lemmatized = [lemmatizer.lemmatize(word, get_wordnet_pos(tag))\n",
        "                     for word, tag in pos_tags]\n",
        "        return ' '.join(lemmatized)\n",
        "    except Exception as e:\n",
        "        print(f\"  Warning: Lemmatization error: {e}\")\n",
        "        return text"
      ],
      "metadata": {
        "id": "RM8do5fJL-Yw"
      },
      "execution_count": null,
      "outputs": []
    },
    {
      "cell_type": "code",
      "source": [
        "# Apply preprocessing\n",
        "\n",
        "if 'text' in df.columns:\n",
        "    print(\"\\nProcessing text...\")\n",
        "    df['processed_text'] = df['text'].apply(full_preprocess)\n",
        "    print(\"\\nPreprocessing complete. Sample results:\")\n",
        "    print(df[['text', 'processed_text']].head())\n",
        "else:\n",
        "    print(\"Error: 'text' column not found in the dataframe.\")\n",
        "    exit()"
      ],
      "metadata": {
        "colab": {
          "base_uri": "https://localhost:8080/"
        },
        "id": "kO10_StYMAl9",
        "outputId": "ae5c5cb8-2b6c-4a39-dca1-a652f6e2dcf5"
      },
      "execution_count": null,
      "outputs": [
        {
          "output_type": "stream",
          "name": "stdout",
          "text": [
            "\n",
            "Processing text...\n",
            "\n",
            "Preprocessing complete. Sample results:\n",
            "                                                text  \\\n",
            "0  Daniel Greenfield, a Shillman Journalism Fello...   \n",
            "1  Google Pinterest Digg Linkedin Reddit Stumbleu...   \n",
            "2  U.S. Secretary of State John F. Kerry said Mon...   \n",
            "3  — Kaydee King (@KaydeeKing) November 9, 2016 T...   \n",
            "4  It's primary day in New York and front-runners...   \n",
            "\n",
            "                                      processed_text  \n",
            "0  daniel greenfield shillman journalism fellow f...  \n",
            "1  google pinterest digg linkedin reddit stumbleu...  \n",
            "2  u secretary state john kerry say monday stop p...  \n",
            "3  kaydee king november lesson tonight dem loss t...  \n",
            "4  primary day new york frontrunners hillary clin...  \n"
          ]
        }
      ]
    },
    {
      "cell_type": "code",
      "source": [
        "# Save processed data to CSV\n",
        "processed_filename = 'processed_news.csv'\n",
        "df.to_csv(processed_filename, index=False)\n",
        "print(f\"\\nProcessed data saved to {processed_filename}\")"
      ],
      "metadata": {
        "colab": {
          "base_uri": "https://localhost:8080/"
        },
        "id": "3fRKG9BBMDB1",
        "outputId": "435a9b14-b127-408b-d27a-dda8c83b98d1"
      },
      "execution_count": null,
      "outputs": [
        {
          "output_type": "stream",
          "name": "stdout",
          "text": [
            "\n",
            "Processed data saved to processed_news.csv\n"
          ]
        }
      ]
    },
    {
      "cell_type": "code",
      "source": [
        "# Machine learning pipeline\n",
        "if 'label' not in df.columns:\n",
        "    print(\"\\nWarning: 'label' column not found. Skipping model training.\")\n",
        "else:\n",
        "    from sklearn.model_selection import train_test_split\n",
        "    from sklearn.feature_extraction.text import TfidfVectorizer\n",
        "    from sklearn.linear_model import LogisticRegression\n",
        "    from sklearn.metrics import classification_report\n",
        "\n",
        "    # Vectorize text\n",
        "    try:\n",
        "        print(\"\\nTraining machine learning model...\")\n",
        "        vectorizer = TfidfVectorizer()\n",
        "        X = vectorizer.fit_transform(df['processed_text'])\n",
        "        y = df['label']\n",
        "\n",
        "        # Train-test split\n",
        "        X_train, X_test, y_train, y_test = train_test_split(X, y, test_size=0.2, random_state=42)\n",
        "\n",
        "        # Train classifier\n",
        "        clf = LogisticRegression(max_iter=1000)\n",
        "        clf.fit(X_train, y_train)\n",
        "\n",
        "        # Evaluate\n",
        "        y_pred = clf.predict(X_test)\n",
        "        print(\"\\nClassification Report:\")\n",
        "        print(classification_report(y_test, y_pred))\n",
        "\n",
        "    except ValueError as e:\n",
        "        print(f\"Error during model training: {e}\")"
      ],
      "metadata": {
        "colab": {
          "base_uri": "https://localhost:8080/"
        },
        "id": "sOjWhkeAMGoG",
        "outputId": "d3208716-3211-46e7-deb4-8fa05e63d6c9"
      },
      "execution_count": null,
      "outputs": [
        {
          "output_type": "stream",
          "name": "stdout",
          "text": [
            "\n",
            "Training machine learning model...\n",
            "\n",
            "Classification Report:\n",
            "              precision    recall  f1-score   support\n",
            "\n",
            "        FAKE       0.90      0.94      0.92       628\n",
            "        REAL       0.94      0.90      0.92       639\n",
            "\n",
            "    accuracy                           0.92      1267\n",
            "   macro avg       0.92      0.92      0.92      1267\n",
            "weighted avg       0.92      0.92      0.92      1267\n",
            "\n"
          ]
        }
      ]
    }
  ]
}